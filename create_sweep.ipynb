{
  "cells": [
    {
      "cell_type": "markdown",
      "metadata": {},
      "source": [
        "# 创建 WandB Sweep - 推荐工作流\n",
        "\n",
        "这个 notebook 演示了正确的使用方式：\n",
        "- ✅ 在 notebook 中创建和配置 sweep\n",
        "- ✅ 在独立脚本中运行 sweep agent  \n",
        "- ✅ 在 notebook 中查看和分析结果\n"
      ]
    },
    {
      "cell_type": "code",
      "execution_count": null,
      "metadata": {},
      "outputs": [],
      "source": [
        "# 更新 wandb 到最新版本（需要重启 kernel）\n",
        "%pip install --upgrade \"wandb>=0.21.0\"\n"
      ]
    },
    {
      "cell_type": "code",
      "execution_count": 11,
      "metadata": {},
      "outputs": [
        {
          "name": "stdout",
          "output_type": "stream",
          "text": [
            "WandB version: 0.19.11\n"
          ]
        }
      ],
      "source": [
        "import wandb\n",
        "print(f\"WandB version: {wandb.__version__}\")\n"
      ]
    },
    {
      "cell_type": "code",
      "execution_count": 3,
      "metadata": {},
      "outputs": [
        {
          "name": "stderr",
          "output_type": "stream",
          "text": [
            "\u001b[34m\u001b[1mwandb\u001b[0m: Currently logged in as: \u001b[33mrsong\u001b[0m (\u001b[33mwandb\u001b[0m) to \u001b[32mhttps://api.wandb.ai\u001b[0m. Use \u001b[1m`wandb login --relogin`\u001b[0m to force relogin\n"
          ]
        },
        {
          "data": {
            "text/plain": [
              "True"
            ]
          },
          "execution_count": 3,
          "metadata": {},
          "output_type": "execute_result"
        }
      ],
      "source": [
        "# 登录 WandB\n",
        "wandb.login()\n"
      ]
    },
    {
      "cell_type": "markdown",
      "metadata": {},
      "source": [
        "## 1. 定义 Sweep 配置\n"
      ]
    },
    {
      "cell_type": "code",
      "execution_count": 7,
      "metadata": {},
      "outputs": [
        {
          "name": "stdout",
          "output_type": "stream",
          "text": [
            "Sweep 配置:\n",
            "{'method': 'bayes', 'metric': {'name': 'loss', 'goal': 'minimize'}, 'parameters': {'learning_rate': {'distribution': 'log_uniform_values', 'min': 0.0001, 'max': 0.1}, 'batch_size': {'values': [16, 32, 64, 128]}, 'epochs': {'value': 10}, 'optimizer': {'values': ['adam', 'sgd', 'rmsprop']}}}\n"
          ]
        }
      ],
      "source": [
        "sweep_config = {\n",
        "    'method': 'bayes',  # 贝叶斯优化\n",
        "    'metric': {\n",
        "        'name': 'loss',\n",
        "        'goal': 'minimize'\n",
        "    },\n",
        "    'parameters': {\n",
        "        'learning_rate': {\n",
        "            'distribution': 'log_uniform_values',\n",
        "            'min': 0.0001,\n",
        "            'max': 0.1\n",
        "        },\n",
        "        'batch_size': {\n",
        "            'values': [16, 32, 64, 128]\n",
        "        },\n",
        "        'epochs': {\n",
        "            'value': 10\n",
        "        },\n",
        "        'optimizer': {\n",
        "            'values': ['adam', 'sgd', 'rmsprop']\n",
        "        }\n",
        "    }\n",
        "}\n",
        "\n",
        "print(\"Sweep 配置:\")\n",
        "print(sweep_config)\n"
      ]
    },
    {
      "cell_type": "markdown",
      "metadata": {},
      "source": [
        "## 2. 创建 Sweep\n"
      ]
    },
    {
      "cell_type": "code",
      "execution_count": 8,
      "metadata": {},
      "outputs": [
        {
          "name": "stdout",
          "output_type": "stream",
          "text": [
            "Create sweep with ID: 1rx0ywmz\n",
            "Sweep URL: https://wandb.ai/wandb/test-sweep-jupyter-issue/sweeps/1rx0ywmz\n",
            "\n",
            "✅ Sweep 创建成功！\n",
            "Sweep ID: 1rx0ywmz\n"
          ]
        }
      ],
      "source": [
        "# 创建 sweep\n",
        "sweep_id = wandb.sweep(\n",
        "    sweep_config,\n",
        "    project=\"test-sweep-jupyter-issue\"\n",
        ")\n",
        "\n",
        "print(f\"\\n✅ Sweep 创建成功！\")\n",
        "print(f\"Sweep ID: {sweep_id}\")\n"
      ]
    },
    {
      "cell_type": "markdown",
      "metadata": {},
      "source": [
        "## 3. 运行 Sweep Agent（在终端）\n",
        "\n",
        "### 方法 1: 使用 wandb CLI（推荐）\n",
        "\n",
        "在终端运行：\n"
      ]
    },
    {
      "cell_type": "code",
      "execution_count": 9,
      "metadata": {},
      "outputs": [
        {
          "name": "stdout",
          "output_type": "stream",
          "text": [
            "\n",
            "📋 复制下面的命令到终端运行：\n",
            "\n",
            "wandb agent 1rx0ywmz\n",
            "\n",
            "或者指定运行次数：\n",
            "\n",
            "wandb agent 1rx0ywmz --count 20\n"
          ]
        }
      ],
      "source": [
        "# 生成命令（复制到终端运行）\n",
        "print(\"\\n📋 复制下面的命令到终端运行：\\n\")\n",
        "print(f\"wandb agent {sweep_id}\")\n",
        "print(\"\\n或者指定运行次数：\\n\")\n",
        "print(f\"wandb agent {sweep_id} --count 20\")\n"
      ]
    },
    {
      "cell_type": "markdown",
      "metadata": {},
      "source": [
        "### 方法 2: 使用 Python 脚本\n"
      ]
    },
    {
      "cell_type": "code",
      "execution_count": 10,
      "metadata": {},
      "outputs": [
        {
          "name": "stdout",
          "output_type": "stream",
          "text": [
            "\n",
            "📋 或者运行 Python 脚本：\n",
            "\n",
            "python train.py 1rx0ywmz 20\n"
          ]
        }
      ],
      "source": [
        "# 生成 Python 命令\n",
        "print(\"\\n📋 或者运行 Python 脚本：\\n\")\n",
        "print(f\"python train.py {sweep_id} 20\")\n"
      ]
    },
    {
      "cell_type": "markdown",
      "metadata": {},
      "source": [
        "## 4. 查看 Sweep 结果\n"
      ]
    },
    {
      "cell_type": "code",
      "execution_count": null,
      "metadata": {},
      "outputs": [],
      "source": [
        "# 获取 sweep 的 URL\n",
        "api = wandb.Api()\n",
        "sweep = api.sweep(f\"{sweep_id}\")\n",
        "\n",
        "print(f\"\\n🔗 Sweep Dashboard:\")\n",
        "print(f\"   {sweep.url}\")\n",
        "print(f\"\\n📊 当前状态:\")\n",
        "print(f\"   运行数量: {sweep.run_count}\")\n",
        "print(f\"   状态: {sweep.state}\")\n"
      ]
    },
    {
      "cell_type": "markdown",
      "metadata": {},
      "source": [
        "## 总结\n",
        "\n",
        "### ✅ 推荐的工作流:\n",
        "\n",
        "1. **Jupyter Notebook** 用于:\n",
        "   - 数据探索\n",
        "   - 定义 sweep 配置\n",
        "   - 创建 sweep\n",
        "   - 分析和可视化结果\n",
        "\n",
        "2. **独立脚本 + 终端** 用于:\n",
        "   - 运行 sweep agent\n",
        "   - 执行实际训练\n",
        "   - 长时间运行的实验\n",
        "\n",
        "### ❌ 避免:\n",
        "- 直接在 notebook 中调用 `wandb.agent()`\n",
        "- 在 notebook cell 中进行长时间训练\n"
      ]
    }
  ],
  "metadata": {
    "kernelspec": {
      "display_name": "base",
      "language": "python",
      "name": "python3"
    },
    "language_info": {
      "codemirror_mode": {
        "name": "ipython",
        "version": 3
      },
      "file_extension": ".py",
      "mimetype": "text/x-python",
      "name": "python",
      "nbconvert_exporter": "python",
      "pygments_lexer": "ipython3",
      "version": "3.12.2"
    }
  },
  "nbformat": 4,
  "nbformat_minor": 2
}
